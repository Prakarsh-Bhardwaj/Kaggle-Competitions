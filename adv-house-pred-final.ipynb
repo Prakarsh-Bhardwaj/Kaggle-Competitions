{
 "cells": [
  {
   "cell_type": "code",
   "execution_count": 1,
   "metadata": {},
   "outputs": [],
   "source": [
    "import pandas as pd\n",
    "import numpy as np\n",
    "from matplotlib import pyplot as plt\n",
    "import seaborn as sns\n",
    "from scipy import stats as ss\n",
    "from scipy.stats import skew\n",
    "\n",
    "pd.set_option(\"display.max_rows\" , 100)\n",
    "\n",
    "%matplotlib inline"
   ]
  },
  {
   "cell_type": "code",
   "execution_count": 2,
   "metadata": {},
   "outputs": [],
   "source": [
    "traindf = pd.read_csv(\"./Datasets/adv-house-pred/train.csv\")\n",
    "testdf = pd.read_csv(\"./Datasets/adv-house-pred/test.csv\")"
   ]
  },
  {
   "cell_type": "code",
   "execution_count": 3,
   "metadata": {},
   "outputs": [],
   "source": [
    "traindf.drop(\"Id\" , axis = 1 , inplace=True)\n",
    "testdf.drop(\"Id\" , axis = 1 , inplace=True)"
   ]
  },
  {
   "cell_type": "code",
   "execution_count": 4,
   "metadata": {},
   "outputs": [],
   "source": [
    "quantitative = [f for f in traindf.columns if traindf.dtypes[f] != 'object']\n",
    "quantitative.remove('SalePrice')\n",
    "qualitative = [f for f in traindf.columns if traindf.dtypes[f] == 'object']"
   ]
  },
  {
   "cell_type": "code",
   "execution_count": 5,
   "metadata": {},
   "outputs": [
    {
     "data": {
      "text/plain": [
       "<matplotlib.axes._subplots.AxesSubplot at 0x249cbb82948>"
      ]
     },
     "execution_count": 5,
     "metadata": {},
     "output_type": "execute_result"
    },
    {
     "data": {
      "image/png": "[encoded data removed]",
      "text/plain": [
       "<Figure size 432x288 with 1 Axes>"
      ]
     },
     "metadata": {
      "needs_background": "light"
     },
     "output_type": "display_data"
    }
   ],
   "source": [
    "traindf[\"SalePrice\"].plot(kind=\"hist\" , bins=50)"
   ]
  },
  {
   "cell_type": "code",
   "execution_count": 6,
   "metadata": {},
   "outputs": [
    {
     "data": {
      "text/plain": [
       "<matplotlib.axes._subplots.AxesSubplot at 0x249cbf66f08>"
      ]
     },
     "execution_count": 6,
     "metadata": {},
     "output_type": "execute_result"
    },
    {
     "data": {
      "image/png": "[encoded data removed]",
      "text/plain": [
       "<Figure size 432x288 with 1 Axes>"
      ]
     },
     "metadata": {
      "needs_background": "light"
     },
     "output_type": "display_data"
    }
   ],
   "source": [
    "traindf[\"SalePrice\"] = traindf[\"SalePrice\"].apply(np.log)\n",
    "traindf[\"SalePrice\"].plot(kind=\"hist\" , bins=50)"
   ]
  },
  {
   "cell_type": "code",
   "execution_count": 7,
   "metadata": {},
   "outputs": [
    {
     "data": {
      "text/plain": [
       "MSSubClass        True\n",
       "LotFrontage      False\n",
       "LotArea           True\n",
       "OverallQual       True\n",
       "OverallCond       True\n",
       "YearBuilt         True\n",
       "YearRemodAdd      True\n",
       "MasVnrArea       False\n",
       "BsmtFinSF1        True\n",
       "BsmtFinSF2        True\n",
       "BsmtUnfSF         True\n",
       "TotalBsmtSF       True\n",
       "1stFlrSF          True\n",
       "2ndFlrSF          True\n",
       "LowQualFinSF      True\n",
       "GrLivArea         True\n",
       "BsmtFullBath      True\n",
       "BsmtHalfBath      True\n",
       "FullBath          True\n",
       "HalfBath          True\n",
       "BedroomAbvGr      True\n",
       "KitchenAbvGr      True\n",
       "TotRmsAbvGrd      True\n",
       "Fireplaces        True\n",
       "GarageYrBlt      False\n",
       "GarageCars        True\n",
       "GarageArea        True\n",
       "WoodDeckSF        True\n",
       "OpenPorchSF       True\n",
       "EnclosedPorch     True\n",
       "3SsnPorch         True\n",
       "ScreenPorch       True\n",
       "PoolArea          True\n",
       "MiscVal           True\n",
       "MoSold            True\n",
       "YrSold            True\n",
       "dtype: bool"
      ]
     },
     "execution_count": 7,
     "metadata": {},
     "output_type": "execute_result"
    }
   ],
   "source": [
    "# Testing wether other input features come from normal distribution or not\n",
    "normal = traindf[quantitative].apply(lambda x : ss.shapiro(x)[1] < 0.05)\n",
    "normal"
   ]
  },
  {
   "cell_type": "code",
   "execution_count": 8,
   "metadata": {},
   "outputs": [],
   "source": [
    "# Outlinears\n",
    "traindf = traindf.drop(traindf[(traindf['GrLivArea']>4000) & (traindf['SalePrice']<12.5)].index)\n",
    "traindf.reset_index(drop = True, inplace = True)"
   ]
  },
  {
   "cell_type": "code",
   "execution_count": 9,
   "metadata": {},
   "outputs": [],
   "source": [
    "# EDA\n",
    "plt.figure(figsize=[12,14])\n",
    "\n",
    "n=1\n",
    "for f in quantitative:\n",
    "    plt.subplot(10,4,n)\n",
    "    sns.distplot(traindf[f], kde=False)\n",
    "    sns.despine()\n",
    "    n=n+1\n",
    "plt.tight_layout()\n",
    "plt.show()"
   ]
  },
  {
   "cell_type": "code",
   "execution_count": 10,
   "metadata": {},
   "outputs": [],
   "source": [
    "fig = plt.figure(figsize=(25,25))\n",
    "ax1 = fig.add_subplot(1,1,1)\n",
    "\n",
    "sns.heatmap(traindf[quantitative].corr(\"spearman\") , vmin=-1.0 , vmax=1.0 , cmap=\"YlGnBu\" , square=True , annot=True)"
   ]
  },
  {
   "cell_type": "code",
   "execution_count": 11,
   "metadata": {},
   "outputs": [],
   "source": [
    "traindf.drop([\"GarageArea\",\"TotRmsAbvGrd\"],axis=1 , inplace = True)\n",
    "testdf.drop([\"GarageArea\",\"TotRmsAbvGrd\"],axis=1 , inplace = True)"
   ]
  },
  {
   "cell_type": "code",
   "execution_count": 12,
   "metadata": {},
   "outputs": [],
   "source": [
    "# traindf.isnull().sum()*100/traindf.shape[0]"
   ]
  },
  {
   "cell_type": "code",
   "execution_count": 13,
   "metadata": {},
   "outputs": [
    {
     "data": {
      "text/plain": [
       "Index(['MSSubClass', 'MSZoning', 'LotFrontage', 'LotArea', 'Street',\n",
       "       'LotShape', 'LandContour', 'Utilities', 'LotConfig', 'LandSlope',\n",
       "       'Neighborhood', 'Condition1', 'Condition2', 'BldgType', 'HouseStyle',\n",
       "       'OverallQual', 'OverallCond', 'YearBuilt', 'YearRemodAdd', 'RoofStyle',\n",
       "       'RoofMatl', 'Exterior1st', 'Exterior2nd', 'MasVnrType', 'MasVnrArea',\n",
       "       'ExterQual', 'ExterCond', 'Foundation', 'BsmtQual', 'BsmtCond',\n",
       "       'BsmtExposure', 'BsmtFinType1', 'BsmtFinSF1', 'BsmtFinType2',\n",
       "       'BsmtFinSF2', 'BsmtUnfSF', 'TotalBsmtSF', 'Heating', 'HeatingQC',\n",
       "       'CentralAir', 'Electrical', '1stFlrSF', '2ndFlrSF', 'LowQualFinSF',\n",
       "       'GrLivArea', 'BsmtFullBath', 'BsmtHalfBath', 'FullBath', 'HalfBath',\n",
       "       'BedroomAbvGr', 'KitchenAbvGr', 'KitchenQual', 'Functional',\n",
       "       'Fireplaces', 'FireplaceQu', 'GarageType', 'GarageYrBlt',\n",
       "       'GarageFinish', 'GarageCars', 'GarageQual', 'GarageCond', 'PavedDrive',\n",
       "       'WoodDeckSF', 'OpenPorchSF', 'EnclosedPorch', '3SsnPorch',\n",
       "       'ScreenPorch', 'PoolArea', 'MiscVal', 'MoSold', 'YrSold', 'SaleType',\n",
       "       'SaleCondition', 'SalePrice'],\n",
       "      dtype='object')"
      ]
     },
     "execution_count": 13,
     "metadata": {},
     "output_type": "execute_result"
    }
   ],
   "source": [
    "null_cols = traindf.isnull().sum()/traindf.shape[0] > 0.8\n",
    "\n",
    "for col in traindf.columns:\n",
    "    if null_cols[col]:\n",
    "        traindf.drop(col , axis = 1 , inplace = True)\n",
    "        testdf.drop(col , axis = 1 , inplace = True)\n",
    "traindf.columns"
   ]
  },
  {
   "cell_type": "code",
   "execution_count": 14,
   "metadata": {},
   "outputs": [],
   "source": [
    "traindf.drop(1379 , axis = 0 , inplace=True) # Only row missing electrical in train as well as test set"
   ]
  },
  {
   "cell_type": "code",
   "execution_count": 15,
   "metadata": {},
   "outputs": [],
   "source": [
    "for col in traindf.select_dtypes(\"object\"):\n",
    "    traindf[col] = traindf[col].fillna('None')\n",
    "    testdf[col] = testdf[col].fillna('None')"
   ]
  },
  {
   "cell_type": "code",
   "execution_count": 16,
   "metadata": {},
   "outputs": [],
   "source": [
    "for col in traindf.drop(\"SalePrice\" , axis = 1).select_dtypes([\"int64\" , \"float64\"]):\n",
    "    traindf[col] = traindf[col].fillna(traindf[col].mean())\n",
    "    testdf[col] = testdf[col].fillna(traindf[col].mean())"
   ]
  },
  {
   "cell_type": "code",
   "execution_count": 17,
   "metadata": {},
   "outputs": [],
   "source": [
    "df = pd.concat([traindf , testdf] , axis = 0 , ignore_index=True)\n",
    "df.reset_index(drop=True , inplace=True)\n",
    "\n",
    "numeric_feats = df.dtypes[df.dtypes != \"object\"].index\n",
    "\n",
    "skewed_feats = df[numeric_feats].apply(lambda x: x.skew()).sort_values(ascending=False)\n",
    "skewed_feats"
   ]
  },
  {
   "cell_type": "code",
   "execution_count": 18,
   "metadata": {},
   "outputs": [],
   "source": [
    "from scipy.special import boxcox1p\n",
    "from scipy.stats import boxcox_normmax\n",
    "\n",
    "high_skew = skewed_feats[skewed_feats > 0.5]\n",
    "skew_index = high_skew.index\n",
    "\n",
    "# Normalise skewed features\n",
    "for i in skew_index:\n",
    "    traindf[i] = boxcox1p(df[i], boxcox_normmax(df[i] + 1))\n",
    "\n",
    "traindf = df.copy().iloc[:traindf.shape[0]]\n",
    "testdf = df.copy().iloc[traindf.shape[0]:]"
   ]
  },
  {
   "cell_type": "code",
   "execution_count": 19,
   "metadata": {},
   "outputs": [],
   "source": [
    "# Mean encoding qualitative variables\n",
    "def find_mean_encoding(frame, feature):\n",
    "    ordering = pd.DataFrame()\n",
    "    ordering['val'] = frame[feature].unique()\n",
    "    ordering.index = ordering.val\n",
    "    ordering['spmean'] = frame[[feature, 'SalePrice']].groupby(feature).mean()['SalePrice']\n",
    "    ordering = ordering.sort_values('spmean')\n",
    "    ordering['ordering'] = range(1, ordering.shape[0]+1)\n",
    "    ordering = ordering['ordering'].to_dict()\n",
    "    \n",
    "    return ordering\n",
    "\n",
    "def encode(frame , feature , ordering):\n",
    "    for cat, o in ordering.items():\n",
    "        frame.loc[frame[feature] == cat, feature+'_E'] = o\n",
    "    \n",
    "qual_encoded = []\n",
    "for q in traindf.select_dtypes(\"object\"):  \n",
    "    order = find_mean_encoding(traindf , q)\n",
    "    encode(traindf, q , order)\n",
    "    encode(testdf , q , order)\n",
    "    qual_encoded.append(q+'_E')\n",
    "    testdf[q + \"_E\"].fillna(traindf[q + \"_E\"].mean() , inplace=True)\n",
    "\n",
    "# testdf.fillna(0 , inplace = True) # To account for class which appeard in test but not in train"
   ]
  },
  {
   "cell_type": "code",
   "execution_count": 20,
   "metadata": {},
   "outputs": [],
   "source": [
    "traindf.drop(list(traindf.select_dtypes(\"object\").columns) , axis = 1 , inplace=True)\n",
    "testdf.drop(list(testdf.select_dtypes(\"object\").columns) , axis = 1 , inplace=True)"
   ]
  },
  {
   "cell_type": "code",
   "execution_count": 21,
   "metadata": {},
   "outputs": [
    {
     "data": {
      "text/plain": [
       "0"
      ]
     },
     "execution_count": 21,
     "metadata": {},
     "output_type": "execute_result"
    }
   ],
   "source": [
    "traindf.isnull().sum().sum()"
   ]
  },
  {
   "cell_type": "code",
   "execution_count": 22,
   "metadata": {},
   "outputs": [
    {
     "data": {
      "text/plain": [
       "0"
      ]
     },
     "execution_count": 22,
     "metadata": {},
     "output_type": "execute_result"
    }
   ],
   "source": [
    "testdf.isnull().sum().sum()"
   ]
  },
  {
   "cell_type": "code",
   "execution_count": 23,
   "metadata": {},
   "outputs": [],
   "source": [
    "from sklearn.ensemble import RandomForestRegressor , GradientBoostingRegressor\n",
    "from sklearn.preprocessing import RobustScaler\n",
    "from sklearn.model_selection import train_test_split , cross_val_score\n",
    "from xgboost import XGBRegressor"
   ]
  },
  {
   "cell_type": "code",
   "execution_count": 24,
   "metadata": {},
   "outputs": [],
   "source": [
    "target = traindf[\"SalePrice\"]\n",
    "traindf.drop(\"SalePrice\" , axis = 1 , inplace = True)\n",
    "scaler = RobustScaler()\n",
    "dataset = pd.concat([traindf , testdf] , axis = 0 , ignore_index=True)\n",
    "dataset.reset_index(drop=True , inplace=True)\n",
    "dataset = pd.DataFrame(scaler.fit_transform(dataset),columns=dataset.columns)\n",
    "traindf = dataset.iloc[:traindf.shape[0]]\n",
    "testdf = dataset.iloc[traindf.shape[0]:]"
   ]
  },
  {
   "cell_type": "code",
   "execution_count": 25,
   "metadata": {},
   "outputs": [
    {
     "data": {
      "text/plain": [
       "array([ True,  True,  True, False, False, False, False,  True,  True,\n",
       "        True,  True, False,  True,  True,  True,  True, False,  True,\n",
       "       False, False, False,  True, False, False, False,  True,  True,\n",
       "        True,  True,  True,  True,  True, False, False, False, False,\n",
       "        True,  True, False,  True,  True, False, False, False, False,\n",
       "       False,  True,  True, False, False,  True,  True, False, False,\n",
       "       False, False,  True, False, False, False, False, False, False,\n",
       "       False, False, False, False, False, False, False, False,  True,\n",
       "       False])"
      ]
     },
     "execution_count": 25,
     "metadata": {},
     "output_type": "execute_result"
    }
   ],
   "source": [
    "skew(traindf) > 0.75"
   ]
  },
  {
   "cell_type": "code",
   "execution_count": 26,
   "metadata": {},
   "outputs": [],
   "source": [
    "clf = RandomForestRegressor(n_jobs=-1)"
   ]
  },
  {
   "cell_type": "code",
   "execution_count": 27,
   "metadata": {},
   "outputs": [
    {
     "data": {
      "text/plain": [
       "RandomForestRegressor(bootstrap=True, ccp_alpha=0.0, criterion='mse',\n",
       "                      max_depth=None, max_features='auto', max_leaf_nodes=None,\n",
       "                      max_samples=None, min_impurity_decrease=0.0,\n",
       "                      min_impurity_split=None, min_samples_leaf=1,\n",
       "                      min_samples_split=2, min_weight_fraction_leaf=0.0,\n",
       "                      n_estimators=100, n_jobs=-1, oob_score=False,\n",
       "                      random_state=None, verbose=0, warm_start=False)"
      ]
     },
     "execution_count": 27,
     "metadata": {},
     "output_type": "execute_result"
    }
   ],
   "source": [
    "clf.fit(traindf.values , target.values)"
   ]
  },
  {
   "cell_type": "code",
   "execution_count": 28,
   "metadata": {},
   "outputs": [
    {
     "data": {
      "text/plain": [
       "array([1.78852982e-03, 4.32471985e-03, 1.15106425e-02, 5.48634015e-01,\n",
       "       1.06490000e-02, 7.28659059e-03, 7.06727215e-03, 2.51480947e-03,\n",
       "       2.03839930e-02, 4.33623694e-04, 5.09968304e-03, 3.77025233e-02,\n",
       "       2.41582010e-02, 4.25760730e-03, 1.74424202e-04, 1.12972772e-01,\n",
       "       1.98689130e-03, 2.89461598e-04, 1.16591459e-03, 8.69602836e-04,\n",
       "       1.64140148e-03, 1.30514266e-03, 1.85233109e-03, 4.18824610e-03,\n",
       "       3.35394832e-02, 2.71937878e-03, 4.67168530e-03, 1.96255895e-03,\n",
       "       2.28584878e-04, 6.03696787e-04, 3.03740351e-05, 2.85313269e-04,\n",
       "       3.68252100e-03, 1.63620938e-03, 5.17454910e-03, 8.67498603e-05,\n",
       "       5.59041723e-04, 9.15462948e-04, 9.66055578e-06, 7.53438851e-04,\n",
       "       8.40172941e-04, 7.34094735e-02, 7.81752844e-04, 3.39858911e-05,\n",
       "       4.85435846e-04, 9.29265475e-04, 8.61275284e-04, 2.59848425e-04,\n",
       "       2.30458938e-03, 2.18056777e-03, 6.76750811e-04, 1.38522440e-03,\n",
       "       2.85945157e-03, 8.48456675e-04, 4.13424497e-03, 1.93586780e-03,\n",
       "       1.58202948e-03, 1.78084525e-03, 4.62477072e-04, 2.93588612e-04,\n",
       "       1.87368867e-03, 5.70073571e-03, 3.24592749e-04, 3.59429007e-03,\n",
       "       1.02647295e-03, 3.22182893e-03, 7.28568858e-03, 2.51430236e-03,\n",
       "       2.12599303e-03, 9.25451227e-04, 1.17437885e-03, 6.58485057e-04,\n",
       "       2.41268086e-03])"
      ]
     },
     "execution_count": 28,
     "metadata": {},
     "output_type": "execute_result"
    }
   ],
   "source": [
    "clf.feature_importances_"
   ]
  },
  {
   "cell_type": "code",
   "execution_count": 29,
   "metadata": {},
   "outputs": [
    {
     "data": {
      "text/plain": [
       "<matplotlib.axes._subplots.AxesSubplot at 0x249cc3f0548>"
      ]
     },
     "execution_count": 29,
     "metadata": {},
     "output_type": "execute_result"
    },
    {
     "data": {
      "image/png": "[encoded data removed]",
      "text/plain": [
       "<Figure size 1800x1800 with 1 Axes>"
      ]
     },
     "metadata": {
      "needs_background": "light"
     },
     "output_type": "display_data"
    }
   ],
   "source": [
    "features = pd.DataFrame()\n",
    "features[\"feature\"] = traindf.columns\n",
    "features[\"importance\"] = clf.feature_importances_\n",
    "features.set_index(\"feature\" , inplace = True)\n",
    "features.sort_values(by = [\"importance\"] , ascending = True , inplace = True)\n",
    "\n",
    "features.plot(kind = \"barh\" , figsize = (25,25))"
   ]
  },
  {
   "cell_type": "code",
   "execution_count": 30,
   "metadata": {},
   "outputs": [
    {
     "data": {
      "text/html": [
       "<div>\n",
       "<style scoped>\n",
       "    .dataframe tbody tr th:only-of-type {\n",
       "        vertical-align: middle;\n",
       "    }\n",
       "\n",
       "    .dataframe tbody tr th {\n",
       "        vertical-align: top;\n",
       "    }\n",
       "\n",
       "    .dataframe thead th {\n",
       "        text-align: right;\n",
       "    }\n",
       "</style>\n",
       "<table border=\"1\" class=\"dataframe\">\n",
       "  <thead>\n",
       "    <tr style=\"text-align: right;\">\n",
       "      <th></th>\n",
       "      <th>importance</th>\n",
       "    </tr>\n",
       "    <tr>\n",
       "      <th>feature</th>\n",
       "      <th></th>\n",
       "    </tr>\n",
       "  </thead>\n",
       "  <tbody>\n",
       "    <tr>\n",
       "      <th>OverallQual</th>\n",
       "      <td>0.548634</td>\n",
       "    </tr>\n",
       "    <tr>\n",
       "      <th>GrLivArea</th>\n",
       "      <td>0.112973</td>\n",
       "    </tr>\n",
       "    <tr>\n",
       "      <th>Neighborhood_E</th>\n",
       "      <td>0.073409</td>\n",
       "    </tr>\n",
       "    <tr>\n",
       "      <th>TotalBsmtSF</th>\n",
       "      <td>0.037703</td>\n",
       "    </tr>\n",
       "    <tr>\n",
       "      <th>GarageCars</th>\n",
       "      <td>0.033539</td>\n",
       "    </tr>\n",
       "    <tr>\n",
       "      <th>1stFlrSF</th>\n",
       "      <td>0.024158</td>\n",
       "    </tr>\n",
       "    <tr>\n",
       "      <th>BsmtFinSF1</th>\n",
       "      <td>0.020384</td>\n",
       "    </tr>\n",
       "    <tr>\n",
       "      <th>LotArea</th>\n",
       "      <td>0.011511</td>\n",
       "    </tr>\n",
       "    <tr>\n",
       "      <th>OverallCond</th>\n",
       "      <td>0.010649</td>\n",
       "    </tr>\n",
       "    <tr>\n",
       "      <th>YearBuilt</th>\n",
       "      <td>0.007287</td>\n",
       "    </tr>\n",
       "    <tr>\n",
       "      <th>GarageType_E</th>\n",
       "      <td>0.007286</td>\n",
       "    </tr>\n",
       "    <tr>\n",
       "      <th>YearRemodAdd</th>\n",
       "      <td>0.007067</td>\n",
       "    </tr>\n",
       "    <tr>\n",
       "      <th>CentralAir_E</th>\n",
       "      <td>0.005701</td>\n",
       "    </tr>\n",
       "    <tr>\n",
       "      <th>MSZoning_E</th>\n",
       "      <td>0.005175</td>\n",
       "    </tr>\n",
       "    <tr>\n",
       "      <th>BsmtUnfSF</th>\n",
       "      <td>0.005100</td>\n",
       "    </tr>\n",
       "    <tr>\n",
       "      <th>OpenPorchSF</th>\n",
       "      <td>0.004672</td>\n",
       "    </tr>\n",
       "    <tr>\n",
       "      <th>LotFrontage</th>\n",
       "      <td>0.004325</td>\n",
       "    </tr>\n",
       "    <tr>\n",
       "      <th>2ndFlrSF</th>\n",
       "      <td>0.004258</td>\n",
       "    </tr>\n",
       "    <tr>\n",
       "      <th>GarageYrBlt</th>\n",
       "      <td>0.004188</td>\n",
       "    </tr>\n",
       "    <tr>\n",
       "      <th>BsmtQual_E</th>\n",
       "      <td>0.004134</td>\n",
       "    </tr>\n",
       "    <tr>\n",
       "      <th>MoSold</th>\n",
       "      <td>0.003683</td>\n",
       "    </tr>\n",
       "    <tr>\n",
       "      <th>KitchenQual_E</th>\n",
       "      <td>0.003594</td>\n",
       "    </tr>\n",
       "    <tr>\n",
       "      <th>FireplaceQu_E</th>\n",
       "      <td>0.003222</td>\n",
       "    </tr>\n",
       "    <tr>\n",
       "      <th>ExterCond_E</th>\n",
       "      <td>0.002859</td>\n",
       "    </tr>\n",
       "    <tr>\n",
       "      <th>WoodDeckSF</th>\n",
       "      <td>0.002719</td>\n",
       "    </tr>\n",
       "    <tr>\n",
       "      <th>MasVnrArea</th>\n",
       "      <td>0.002515</td>\n",
       "    </tr>\n",
       "    <tr>\n",
       "      <th>GarageFinish_E</th>\n",
       "      <td>0.002514</td>\n",
       "    </tr>\n",
       "    <tr>\n",
       "      <th>SaleCondition_E</th>\n",
       "      <td>0.002413</td>\n",
       "    </tr>\n",
       "    <tr>\n",
       "      <th>Exterior1st_E</th>\n",
       "      <td>0.002305</td>\n",
       "    </tr>\n",
       "    <tr>\n",
       "      <th>Exterior2nd_E</th>\n",
       "      <td>0.002181</td>\n",
       "    </tr>\n",
       "    <tr>\n",
       "      <th>GarageQual_E</th>\n",
       "      <td>0.002126</td>\n",
       "    </tr>\n",
       "    <tr>\n",
       "      <th>BsmtFullBath</th>\n",
       "      <td>0.001987</td>\n",
       "    </tr>\n",
       "    <tr>\n",
       "      <th>EnclosedPorch</th>\n",
       "      <td>0.001963</td>\n",
       "    </tr>\n",
       "    <tr>\n",
       "      <th>BsmtCond_E</th>\n",
       "      <td>0.001936</td>\n",
       "    </tr>\n",
       "    <tr>\n",
       "      <th>HeatingQC_E</th>\n",
       "      <td>0.001874</td>\n",
       "    </tr>\n",
       "    <tr>\n",
       "      <th>Fireplaces</th>\n",
       "      <td>0.001852</td>\n",
       "    </tr>\n",
       "    <tr>\n",
       "      <th>MSSubClass</th>\n",
       "      <td>0.001789</td>\n",
       "    </tr>\n",
       "    <tr>\n",
       "      <th>BsmtFinType1_E</th>\n",
       "      <td>0.001781</td>\n",
       "    </tr>\n",
       "    <tr>\n",
       "      <th>BedroomAbvGr</th>\n",
       "      <td>0.001641</td>\n",
       "    </tr>\n",
       "    <tr>\n",
       "      <th>YrSold</th>\n",
       "      <td>0.001636</td>\n",
       "    </tr>\n",
       "    <tr>\n",
       "      <th>BsmtExposure_E</th>\n",
       "      <td>0.001582</td>\n",
       "    </tr>\n",
       "    <tr>\n",
       "      <th>ExterQual_E</th>\n",
       "      <td>0.001385</td>\n",
       "    </tr>\n",
       "    <tr>\n",
       "      <th>KitchenAbvGr</th>\n",
       "      <td>0.001305</td>\n",
       "    </tr>\n",
       "    <tr>\n",
       "      <th>PavedDrive_E</th>\n",
       "      <td>0.001174</td>\n",
       "    </tr>\n",
       "    <tr>\n",
       "      <th>FullBath</th>\n",
       "      <td>0.001166</td>\n",
       "    </tr>\n",
       "    <tr>\n",
       "      <th>Functional_E</th>\n",
       "      <td>0.001026</td>\n",
       "    </tr>\n",
       "    <tr>\n",
       "      <th>HouseStyle_E</th>\n",
       "      <td>0.000929</td>\n",
       "    </tr>\n",
       "    <tr>\n",
       "      <th>GarageCond_E</th>\n",
       "      <td>0.000925</td>\n",
       "    </tr>\n",
       "    <tr>\n",
       "      <th>LandContour_E</th>\n",
       "      <td>0.000915</td>\n",
       "    </tr>\n",
       "    <tr>\n",
       "      <th>HalfBath</th>\n",
       "      <td>0.000870</td>\n",
       "    </tr>\n",
       "    <tr>\n",
       "      <th>RoofStyle_E</th>\n",
       "      <td>0.000861</td>\n",
       "    </tr>\n",
       "    <tr>\n",
       "      <th>Foundation_E</th>\n",
       "      <td>0.000848</td>\n",
       "    </tr>\n",
       "    <tr>\n",
       "      <th>LandSlope_E</th>\n",
       "      <td>0.000840</td>\n",
       "    </tr>\n",
       "    <tr>\n",
       "      <th>Condition1_E</th>\n",
       "      <td>0.000782</td>\n",
       "    </tr>\n",
       "    <tr>\n",
       "      <th>LotConfig_E</th>\n",
       "      <td>0.000753</td>\n",
       "    </tr>\n",
       "    <tr>\n",
       "      <th>MasVnrType_E</th>\n",
       "      <td>0.000677</td>\n",
       "    </tr>\n",
       "    <tr>\n",
       "      <th>SaleType_E</th>\n",
       "      <td>0.000658</td>\n",
       "    </tr>\n",
       "    <tr>\n",
       "      <th>ScreenPorch</th>\n",
       "      <td>0.000604</td>\n",
       "    </tr>\n",
       "    <tr>\n",
       "      <th>LotShape_E</th>\n",
       "      <td>0.000559</td>\n",
       "    </tr>\n",
       "    <tr>\n",
       "      <th>BldgType_E</th>\n",
       "      <td>0.000485</td>\n",
       "    </tr>\n",
       "    <tr>\n",
       "      <th>BsmtFinType2_E</th>\n",
       "      <td>0.000462</td>\n",
       "    </tr>\n",
       "    <tr>\n",
       "      <th>BsmtFinSF2</th>\n",
       "      <td>0.000434</td>\n",
       "    </tr>\n",
       "    <tr>\n",
       "      <th>Electrical_E</th>\n",
       "      <td>0.000325</td>\n",
       "    </tr>\n",
       "    <tr>\n",
       "      <th>Heating_E</th>\n",
       "      <td>0.000294</td>\n",
       "    </tr>\n",
       "    <tr>\n",
       "      <th>BsmtHalfBath</th>\n",
       "      <td>0.000289</td>\n",
       "    </tr>\n",
       "    <tr>\n",
       "      <th>MiscVal</th>\n",
       "      <td>0.000285</td>\n",
       "    </tr>\n",
       "    <tr>\n",
       "      <th>RoofMatl_E</th>\n",
       "      <td>0.000260</td>\n",
       "    </tr>\n",
       "    <tr>\n",
       "      <th>3SsnPorch</th>\n",
       "      <td>0.000229</td>\n",
       "    </tr>\n",
       "    <tr>\n",
       "      <th>LowQualFinSF</th>\n",
       "      <td>0.000174</td>\n",
       "    </tr>\n",
       "    <tr>\n",
       "      <th>Street_E</th>\n",
       "      <td>0.000087</td>\n",
       "    </tr>\n",
       "    <tr>\n",
       "      <th>Condition2_E</th>\n",
       "      <td>0.000034</td>\n",
       "    </tr>\n",
       "    <tr>\n",
       "      <th>PoolArea</th>\n",
       "      <td>0.000030</td>\n",
       "    </tr>\n",
       "    <tr>\n",
       "      <th>Utilities_E</th>\n",
       "      <td>0.000010</td>\n",
       "    </tr>\n",
       "  </tbody>\n",
       "</table>\n",
       "</div>"
      ],
      "text/plain": [
       "                 importance\n",
       "feature                    \n",
       "OverallQual        0.548634\n",
       "GrLivArea          0.112973\n",
       "Neighborhood_E     0.073409\n",
       "TotalBsmtSF        0.037703\n",
       "GarageCars         0.033539\n",
       "1stFlrSF           0.024158\n",
       "BsmtFinSF1         0.020384\n",
       "LotArea            0.011511\n",
       "OverallCond        0.010649\n",
       "YearBuilt          0.007287\n",
       "GarageType_E       0.007286\n",
       "YearRemodAdd       0.007067\n",
       "CentralAir_E       0.005701\n",
       "MSZoning_E         0.005175\n",
       "BsmtUnfSF          0.005100\n",
       "OpenPorchSF        0.004672\n",
       "LotFrontage        0.004325\n",
       "2ndFlrSF           0.004258\n",
       "GarageYrBlt        0.004188\n",
       "BsmtQual_E         0.004134\n",
       "MoSold             0.003683\n",
       "KitchenQual_E      0.003594\n",
       "FireplaceQu_E      0.003222\n",
       "ExterCond_E        0.002859\n",
       "WoodDeckSF         0.002719\n",
       "MasVnrArea         0.002515\n",
       "GarageFinish_E     0.002514\n",
       "SaleCondition_E    0.002413\n",
       "Exterior1st_E      0.002305\n",
       "Exterior2nd_E      0.002181\n",
       "GarageQual_E       0.002126\n",
       "BsmtFullBath       0.001987\n",
       "EnclosedPorch      0.001963\n",
       "BsmtCond_E         0.001936\n",
       "HeatingQC_E        0.001874\n",
       "Fireplaces         0.001852\n",
       "MSSubClass         0.001789\n",
       "BsmtFinType1_E     0.001781\n",
       "BedroomAbvGr       0.001641\n",
       "YrSold             0.001636\n",
       "BsmtExposure_E     0.001582\n",
       "ExterQual_E        0.001385\n",
       "KitchenAbvGr       0.001305\n",
       "PavedDrive_E       0.001174\n",
       "FullBath           0.001166\n",
       "Functional_E       0.001026\n",
       "HouseStyle_E       0.000929\n",
       "GarageCond_E       0.000925\n",
       "LandContour_E      0.000915\n",
       "HalfBath           0.000870\n",
       "RoofStyle_E        0.000861\n",
       "Foundation_E       0.000848\n",
       "LandSlope_E        0.000840\n",
       "Condition1_E       0.000782\n",
       "LotConfig_E        0.000753\n",
       "MasVnrType_E       0.000677\n",
       "SaleType_E         0.000658\n",
       "ScreenPorch        0.000604\n",
       "LotShape_E         0.000559\n",
       "BldgType_E         0.000485\n",
       "BsmtFinType2_E     0.000462\n",
       "BsmtFinSF2         0.000434\n",
       "Electrical_E       0.000325\n",
       "Heating_E          0.000294\n",
       "BsmtHalfBath       0.000289\n",
       "MiscVal            0.000285\n",
       "RoofMatl_E         0.000260\n",
       "3SsnPorch          0.000229\n",
       "LowQualFinSF       0.000174\n",
       "Street_E           0.000087\n",
       "Condition2_E       0.000034\n",
       "PoolArea           0.000030\n",
       "Utilities_E        0.000010"
      ]
     },
     "execution_count": 30,
     "metadata": {},
     "output_type": "execute_result"
    }
   ],
   "source": [
    "features.sort_values(by=[\"importance\"] , ascending=False , inplace = True)\n",
    "features"
   ]
  },
  {
   "cell_type": "code",
   "execution_count": 31,
   "metadata": {},
   "outputs": [
    {
     "data": {
      "text/plain": [
       "Index(['OverallQual', 'GrLivArea', 'Neighborhood_E', 'TotalBsmtSF',\n",
       "       'GarageCars', '1stFlrSF', 'BsmtFinSF1', 'LotArea', 'OverallCond',\n",
       "       'YearBuilt', 'GarageType_E', 'YearRemodAdd', 'CentralAir_E',\n",
       "       'MSZoning_E', 'BsmtUnfSF', 'OpenPorchSF', 'LotFrontage', '2ndFlrSF',\n",
       "       'GarageYrBlt', 'BsmtQual_E', 'MoSold', 'KitchenQual_E', 'FireplaceQu_E',\n",
       "       'ExterCond_E', 'WoodDeckSF', 'MasVnrArea', 'GarageFinish_E',\n",
       "       'SaleCondition_E', 'Exterior1st_E', 'Exterior2nd_E'],\n",
       "      dtype='object', name='feature')"
      ]
     },
     "execution_count": 31,
     "metadata": {},
     "output_type": "execute_result"
    }
   ],
   "source": [
    "# only considering top 27 features! (20 for gb and rf)\n",
    "val_features = features.iloc[:30]\n",
    "val_features.index"
   ]
  },
  {
   "cell_type": "code",
   "execution_count": 32,
   "metadata": {},
   "outputs": [],
   "source": [
    "for col in traindf.columns:\n",
    "    if col not in val_features.index:\n",
    "        traindf.drop(col , axis = 1 , inplace = True)\n",
    "        testdf.drop(col , axis = 1 , inplace = True)"
   ]
  },
  {
   "cell_type": "code",
   "execution_count": 33,
   "metadata": {},
   "outputs": [],
   "source": [
    "X_train ,X_test , Y_train , Y_test = train_test_split(traindf , target , test_size = 0.2)"
   ]
  },
  {
   "cell_type": "code",
   "execution_count": 39,
   "metadata": {},
   "outputs": [],
   "source": [
    "best = {'colsample_bylevel': 0.6971640307744038, 'colsample_bytree': 0.6222251306452113, \n",
    "        'gamma': 0.045557016198868025, 'learning_rate': 0.012334455088591312, 'max_depth': 4.0, \n",
    "        'n_estimators': 2100.0, 'reg_lambda': 2.1713829044702413, 'subsample': 0.8459257473555255}\n",
    "\n",
    "xgb = XGBRegressor(random_state=3,\n",
    "                        n_estimators=int(best['n_estimators']), \n",
    "                        colsample_bytree= best['colsample_bytree'],\n",
    "                        gamma= best['gamma'],\n",
    "                        learning_rate= best['learning_rate'],\n",
    "                        max_depth= int(best['max_depth']),\n",
    "                        subsample= best['subsample'],\n",
    "                        colsample_bylevel= best['colsample_bylevel'],\n",
    "                        reg_lambda= best['reg_lambda'],\n",
    "                        objective=\"reg:squarederror\"\n",
    "                       )"
   ]
  },
  {
   "cell_type": "code",
   "execution_count": 40,
   "metadata": {},
   "outputs": [
    {
     "data": {
      "text/plain": [
       "XGBRegressor(base_score=0.5, booster='gbtree',\n",
       "             colsample_bylevel=0.6971640307744038, colsample_bynode=1,\n",
       "             colsample_bytree=0.6222251306452113, gamma=0.045557016198868025,\n",
       "             importance_type='gain', learning_rate=0.012334455088591312,\n",
       "             max_delta_step=0, max_depth=4, min_child_weight=1, missing=None,\n",
       "             n_estimators=2100, n_jobs=1, nthread=None,\n",
       "             objective='reg:squarederror', random_state=3, reg_alpha=0,\n",
       "             reg_lambda=2.1713829044702413, scale_pos_weight=1, seed=None,\n",
       "             silent=None, subsample=0.8459257473555255, verbosity=1)"
      ]
     },
     "execution_count": 40,
     "metadata": {},
     "output_type": "execute_result"
    }
   ],
   "source": [
    "xgb.fit(X_train , Y_train)"
   ]
  },
  {
   "cell_type": "code",
   "execution_count": 41,
   "metadata": {},
   "outputs": [
    {
     "data": {
      "text/plain": [
       "0.9324688359010463"
      ]
     },
     "execution_count": 41,
     "metadata": {},
     "output_type": "execute_result"
    }
   ],
   "source": [
    "xgb.score(X_test , Y_test)"
   ]
  },
  {
   "cell_type": "code",
   "execution_count": 42,
   "metadata": {},
   "outputs": [
    {
     "data": {
      "text/plain": [
       "XGBRegressor(base_score=0.5, booster='gbtree',\n",
       "             colsample_bylevel=0.6971640307744038, colsample_bynode=1,\n",
       "             colsample_bytree=0.6222251306452113, gamma=0.045557016198868025,\n",
       "             importance_type='gain', learning_rate=0.012334455088591312,\n",
       "             max_delta_step=0, max_depth=4, min_child_weight=1, missing=None,\n",
       "             n_estimators=2100, n_jobs=1, nthread=None,\n",
       "             objective='reg:squarederror', random_state=3, reg_alpha=0,\n",
       "             reg_lambda=2.1713829044702413, scale_pos_weight=1, seed=None,\n",
       "             silent=None, subsample=0.8459257473555255, verbosity=1)"
      ]
     },
     "execution_count": 42,
     "metadata": {},
     "output_type": "execute_result"
    }
   ],
   "source": [
    "best_m = xgb\n",
    "best_m.fit(traindf , target)"
   ]
  },
  {
   "cell_type": "code",
   "execution_count": 43,
   "metadata": {},
   "outputs": [],
   "source": [
    "predictions = best_m.predict(testdf)\n",
    "predictions = np.exp(predictions)\n",
    "sub = pd.read_csv(\"./Datasets/adv-house-pred/test.csv\")\n",
    "Id = sub[\"Id\"]\n",
    "sub = pd.DataFrame({\"Id\" : Id , \"SalePrice\" : predictions})\n",
    "sub.to_csv(\"submission2.csv\" , index=False)"
   ]
  },
  {
   "cell_type": "code",
   "execution_count": null,
   "metadata": {},
   "outputs": [],
   "source": []
  }
 ],
 "metadata": {
  "kernelspec": {
   "display_name": "Python 3",
   "language": "python",
   "name": "python3"
  },
  "language_info": {
   "codemirror_mode": {
    "name": "ipython",
    "version": 3
   },
   "file_extension": ".py",
   "mimetype": "text/x-python",
   "name": "python",
   "nbconvert_exporter": "python",
   "pygments_lexer": "ipython3",
   "version": "3.7.7"
  }
 },
 "nbformat": 4,
 "nbformat_minor": 4
}
